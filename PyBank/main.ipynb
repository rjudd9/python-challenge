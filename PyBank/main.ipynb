{
 "cells": [
  {
   "cell_type": "code",
   "execution_count": null,
   "id": "73846eeb-a068-4711-93b7-f6e849db0801",
   "metadata": {},
   "outputs": [],
   "source": [
    "# Your task is to create a Python script that analyzes the records to calculate each of the following:\n",
    "# The total number of months included in the dataset\n",
    "# The total net amount of \"Profit/Losses\" over the entire period\n",
    "# The average change in \"Profit/Losses\" between months over the entire period\n",
    "# The greatest increase in profits (date and amount) over the entire period\n",
    "# The greatest decrease in losses (date and amount) over the entire period"
   ]
  },
  {
   "cell_type": "code",
   "execution_count": 4,
   "id": "e5050436-e82e-4127-b945-9defc26db473",
   "metadata": {
    "tags": []
   },
   "outputs": [],
   "source": [
    "# Import the modules and dataset\n",
    "\n",
    "from pathlib import Path\n",
    "import csv\n",
    "\n",
    "import pandas as pd\n",
    "\n",
    "csvpath = Path(r\"C:\\Users\\juddm\\Documents\\python-challenge\\PyBank\\budget_data.csv\")\n",
    "\n",
    "PyBank = pd.read_csv(csvpath)"
   ]
  },
  {
   "cell_type": "code",
   "execution_count": 23,
   "id": "e5d15f24-9582-4233-b362-88788621411e",
   "metadata": {
    "tags": []
   },
   "outputs": [
    {
     "name": "stdout",
     "output_type": "stream",
     "text": [
      "Number of months is:- 86\n"
     ]
    }
   ],
   "source": [
    "# Calculate the total number of months included in the dataset\n",
    "\n",
    "PyBank = pd.read_csv(csvpath)\n",
    "\n",
    "total_months = print(\"Number of months is:-\", \n",
    "      len(PyBank))"
   ]
  },
  {
   "cell_type": "code",
   "execution_count": 6,
   "id": "db53f068-eb2f-4946-b30f-ac889afdc688",
   "metadata": {
    "tags": []
   },
   "outputs": [
    {
     "name": "stdout",
     "output_type": "stream",
     "text": [
      "$ 38382578\n"
     ]
    }
   ],
   "source": [
    "# Calculate the net total amount of Profit/Losses over the entire period\n",
    "\n",
    "with open(csvpath) as csvfile:\n",
    "    next(csvfile)\n",
    "    total_profits_losses = sum(int(r[1]) for r in csv.reader(csvfile))\n",
    "\n",
    "print(\"$\", total_profits_losses)"
   ]
  },
  {
   "cell_type": "code",
   "execution_count": 7,
   "id": "2ae8aae7-da82-45ad-be5f-514c83db81b6",
   "metadata": {
    "tags": []
   },
   "outputs": [],
   "source": [
    "# define variables and lists\n",
    "\n",
    "total_months = 0\n",
    "total_revenue = 0\n",
    "count_revenue = 0\n",
    "revenues = []\n",
    "previous_revenue = 0\n",
    "month_of_change = []\n",
    "revenue_change = 0\n",
    "min_revenue = 0\n",
    "max_revenue = 0\n",
    "revenue_change_list = []\n",
    "revenue_average = 0\n",
    "\n",
    "# determine average change in profit/losses\n",
    "\n",
    "with open(csvpath) as csvfile:  \n",
    "    csvreader = csv.reader(csvfile, delimiter=',')\n",
    "    header = next(csvreader)\n",
    "    for row in csvreader:\n",
    "        total_revenue = total_revenue + int(row[1])\n",
    "        revenue_change = int(row[1])- previous_revenue\n",
    "        previous_revenue = int(row[1])\n",
    "        revenue_change_list = revenue_change_list + [revenue_change]\n",
    "        month_of_change = [month_of_change] + [row[0]]\n",
    "        average_revenue_change = sum(revenue_change_list)/len(revenue_change_list)"
   ]
  },
  {
   "cell_type": "code",
   "execution_count": 42,
   "id": "300cdf0e-b87a-4525-aa06-58aa0b9ef3a2",
   "metadata": {
    "tags": []
   },
   "outputs": [
    {
     "data": {
      "text/plain": [
       "7803.48"
      ]
     },
     "execution_count": 42,
     "metadata": {},
     "output_type": "execute_result"
    }
   ],
   "source": [
    "round(average_revenue_change, 2)"
   ]
  },
  {
   "cell_type": "code",
   "execution_count": 8,
   "id": "27e5461f-c384-4d7a-a28f-41a18c6bbce2",
   "metadata": {
    "tags": []
   },
   "outputs": [],
   "source": [
    "# Determine the greatest increase in profits (date and amount) over the entire period\n",
    "\n",
    "with open(csvpath) as csvfile:  \n",
    "    csvreader = csv.reader(csvfile, delimiter=',')\n",
    "    header = next(csvreader)\n",
    "    for row in csvreader:\n",
    "        revenue = int(row[1])\n",
    "        revenues.append(revenue)\n",
    "        total_revenue += revenue\n",
    "        count_revenue += 1\n",
    "        if min_revenue == 0:\n",
    "            min_revenue = revenue\n",
    "        elif revenue > max_revenue:\n",
    "            max_revenue = revenue\n",
    "        elif revenue < min_revenue:\n",
    "            min_revenue = revenue"
   ]
  },
  {
   "cell_type": "code",
   "execution_count": 60,
   "id": "eeebef36-27e4-420a-b681-1902eb8dcbfd",
   "metadata": {
    "tags": []
   },
   "outputs": [
    {
     "data": {
      "text/plain": [
       "1170593"
      ]
     },
     "execution_count": 60,
     "metadata": {},
     "output_type": "execute_result"
    }
   ],
   "source": [
    "max_revenue"
   ]
  },
  {
   "cell_type": "code",
   "execution_count": 61,
   "id": "11722c13-684f-45de-b58d-46671b1c0c3b",
   "metadata": {
    "tags": []
   },
   "outputs": [
    {
     "data": {
      "text/plain": [
       "-1196225"
      ]
     },
     "execution_count": 61,
     "metadata": {},
     "output_type": "execute_result"
    }
   ],
   "source": [
    "min_revenue"
   ]
  },
  {
   "cell_type": "code",
   "execution_count": null,
   "id": "cd209612-808e-4a6b-8dac-d7c3d29c8430",
   "metadata": {},
   "outputs": [],
   "source": [
    "# set the output path "
   ]
  },
  {
   "cell_type": "code",
   "execution_count": 9,
   "id": "b6ec229b-d331-4a78-a3bf-eda90b9ec556",
   "metadata": {
    "tags": []
   },
   "outputs": [],
   "source": [
    "output = Path(r\"C:\\Users\\juddm\\Documents\\python-challenge\\PyBank\\analysis.csv\")"
   ]
  },
  {
   "cell_type": "code",
   "execution_count": null,
   "id": "62f1c1ec-68be-4b46-bbb9-785329ff21c8",
   "metadata": {},
   "outputs": [],
   "source": [
    "# write the analysis into the output path"
   ]
  },
  {
   "cell_type": "code",
   "execution_count": 28,
   "id": "51d9c1e4-605b-4ee7-aea0-c397fd79caa5",
   "metadata": {},
   "outputs": [],
   "source": [
    "with open(output, 'w') as file:\n",
    "    file.write(\"Financial Analysis\")\n",
    "    file.write(\"---------------------\")\n",
    "    file.write(f\"The total months were 86\")\n",
    "    file.write(f\"The net amounts of profits and losses was {total_profits_losses}.\")\n",
    "    file.write(f\"The average change in profits and losses was {average_revenue_change}.\")\n",
    "    file.write(f\"The maximum revenue was  {max_revenue}.\")\n",
    "    file.write(f\"The minimum revenue was {min_revenue}.\")"
   ]
  }
 ],
 "metadata": {
  "kernelspec": {
   "display_name": "Python 3 (ipykernel)",
   "language": "python",
   "name": "python3"
  },
  "language_info": {
   "codemirror_mode": {
    "name": "ipython",
    "version": 3
   },
   "file_extension": ".py",
   "mimetype": "text/x-python",
   "name": "python",
   "nbconvert_exporter": "python",
   "pygments_lexer": "ipython3",
   "version": "3.10.12"
  }
 },
 "nbformat": 4,
 "nbformat_minor": 5
}
